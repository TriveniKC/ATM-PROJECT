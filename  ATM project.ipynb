{
 "cells": [
  {
   "cell_type": "markdown",
   "id": "6ae9f630",
   "metadata": {},
   "source": [
    "# ATM PROJECT"
   ]
  },
  {
   "cell_type": "code",
   "execution_count": null,
   "id": "d3ad1bf7",
   "metadata": {},
   "outputs": [
    {
     "name": "stdout",
     "output_type": "stream",
     "text": [
      "Welcome to ATM\n",
      "insert ATM card\n"
     ]
    }
   ],
   "source": [
    "print(\"Welcome to ATM\")\n",
    "print(\"insert ATM card\")\n",
    "a = input()\n",
    "if(a == \"yes\"):\n",
    "    pin = int(input(\"enter your pin\"))\n",
    "    print(\"select languages 1 english 2 kannada 3 hindi\")\n",
    "    b = int(input())\n",
    "    if(b == 1):\n",
    "        print(\"1.withdraw\", \"2.deposite\", \"3. balance enq\")\n",
    "        c = int(input())\n",
    "        if(c == 1):\n",
    "            print(\"1.current\",\"2,savings\")\n",
    "            d = input()\n",
    "            if(d == 2):\n",
    "                d = int(input(\"enter the amount\"))\n",
    "                print(\"remaining balance = 9000\")\n",
    "                print(\"thank you for choosing atm\")\n",
    "                print(\"thank you\")\n",
    "            else:\n",
    "                print(\"current bank stetus\")\n",
    "                curr = int(input(\"enter withdraw amnt\" ))\n",
    "                print(\"remaining balance = 9000\")\n",
    "                print(\"thank you for choosing atm\")\n",
    "                print(\"thank you\")   \n",
    "        elif(c == 2):\n",
    "            e=int(input(print(\"enter the amount to deposite\")))\n",
    "            print(\"the amount is succesfully deposited\") \n",
    "        elif(c == 3):\n",
    "            print(\"the remainig balance is 9000\")\n",
    "    elif(b == 2):\n",
    "        print(\"1.Hintegedukolli\", \"2.Thevani\", \"3.Samatolana vicarane\")\n",
    "        c = int(input())\n",
    "        if(c == 1):\n",
    "            print(\"1.Prastuta\",\"2,Uḷitāya\")\n",
    "            d = input()\n",
    "            if(d == 2):\n",
    "                d = int(input(\"enter the amount\"))\n",
    "                print(\"remaining balance = 9000\")\n",
    "                print(\"thank you for choosing atm\")\n",
    "                print(\"thank you\")\n",
    "            else:\n",
    "                print(\"current bank stetus\")\n",
    "                curr = int(input(\"enter withdraw amnt\" ))\n",
    "                print(\"remaining balance = 9000\")\n",
    "                print(\"thank you for choosing atm\")\n",
    "                print(\"thank you\")  \n",
    "        elif(c == 2):\n",
    "            e=int(input(print(\"enter the amount to deposite\")))\n",
    "            print(\"the amount is succesfully deposited\")\n",
    "        elif(c == 3):\n",
    "            print(\"the remainig balance is 9000\")\n",
    "    elif(b == 3):\n",
    "        print(\"please learn kannada\")\n",
    "        print(\"1.Hintegedukolli\", \"2.Thevani\", \"3.Samatolana vicarane\")\n",
    "        c = int(input())\n",
    "        if(c == 1):\n",
    "            print(\"1.Prastuta\",\"2,Uḷitāya\")\n",
    "            d = input()\n",
    "            if(d == 2):\n",
    "                d = int(input(\"enter the amount\"))\n",
    "                print(\"remaining balance = 9000\")\n",
    "                print(\"thank you for choosing atm\")\n",
    "                print(\"thank you\")\n",
    "            else:\n",
    "                print(\"current bank stetus\")\n",
    "                curr = int(input(\"enter withdraw amnt\" ))\n",
    "                print(\"remaining balance = 9000\")\n",
    "                print(\"thank you for choosing atm\")\n",
    "                print(\"thank you\")\n",
    "        elif(c == 2):\n",
    "            e=int(input(print(\"enter the amount to deposite\")))\n",
    "            print(\"the amount is succesfully deposited\")\n",
    "        elif(c == 3):\n",
    "            print(\"the remainig balance is 9000\")"
   ]
  },
  {
   "cell_type": "code",
   "execution_count": null,
   "id": "0b0da346",
   "metadata": {},
   "outputs": [],
   "source": []
  }
 ],
 "metadata": {
  "kernelspec": {
   "display_name": "Python 3 (ipykernel)",
   "language": "python",
   "name": "python3"
  },
  "language_info": {
   "codemirror_mode": {
    "name": "ipython",
    "version": 3
   },
   "file_extension": ".py",
   "mimetype": "text/x-python",
   "name": "python",
   "nbconvert_exporter": "python",
   "pygments_lexer": "ipython3",
   "version": "3.9.12"
  }
 },
 "nbformat": 4,
 "nbformat_minor": 5
}
